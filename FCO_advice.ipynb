{
 "cells": [
  {
   "cell_type": "markdown",
   "metadata": {},
   "source": [
    "# Travel map: Scraping FCO advice"
   ]
  },
  {
   "cell_type": "markdown",
   "metadata": {},
   "source": [
    "### Import modules"
   ]
  },
  {
   "cell_type": "code",
   "execution_count": 96,
   "metadata": {},
   "outputs": [],
   "source": [
    "from bs4 import BeautifulSoup\n",
    "import requests\n",
    "import pandas as pd\n",
    "import numpy as np"
   ]
  },
  {
   "cell_type": "markdown",
   "metadata": {},
   "source": [
    "### Get main page and country pages"
   ]
  },
  {
   "cell_type": "code",
   "execution_count": 97,
   "metadata": {},
   "outputs": [],
   "source": [
    "soup = BeautifulSoup(requests.get('https://www.gov.uk/foreign-travel-advice').text, 'lxml')"
   ]
  },
  {
   "cell_type": "code",
   "execution_count": 99,
   "metadata": {},
   "outputs": [],
   "source": [
    "countries = [{'name': a.text, 'url': 'https://www.gov.uk' + a.get('href')} for a in \n",
    "            soup.findAll('a', {'class':'countries-list__link'})]"
   ]
  },
  {
   "cell_type": "code",
   "execution_count": 100,
   "metadata": {},
   "outputs": [
    {
     "data": {
      "text/plain": [
       "226"
      ]
     },
     "execution_count": 100,
     "metadata": {},
     "output_type": "execute_result"
    }
   ],
   "source": [
    "len(countries)"
   ]
  },
  {
   "cell_type": "code",
   "execution_count": 101,
   "metadata": {},
   "outputs": [
    {
     "data": {
      "text/plain": [
       "{'name': 'Afghanistan',\n",
       " 'url': 'https://www.gov.uk/foreign-travel-advice/afghanistan'}"
      ]
     },
     "execution_count": 101,
     "metadata": {},
     "output_type": "execute_result"
    }
   ],
   "source": [
    "countries[0]"
   ]
  },
  {
   "cell_type": "code",
   "execution_count": 102,
   "metadata": {},
   "outputs": [],
   "source": [
    "for country in countries:\n",
    "    country['entry_requirements'] = country['url'] + '/entry-requirements'"
   ]
  },
  {
   "cell_type": "markdown",
   "metadata": {},
   "source": [
    "## Get travel corridor list"
   ]
  },
  {
   "cell_type": "code",
   "execution_count": 111,
   "metadata": {},
   "outputs": [],
   "source": [
    "soup = BeautifulSoup(requests.get('https://www.gov.uk/guidance/coronavirus-covid-19-travel-corridors').text, 'lxml')\n",
    "\n",
    "corridors = soup.find('h2', {'id': 'countries-and-territories-with-no-self-isolation-requirement-on-arrival-in-england'}).find_next_sibling('ul')"
   ]
  },
  {
   "cell_type": "code",
   "execution_count": 112,
   "metadata": {},
   "outputs": [
    {
     "name": "stdout",
     "output_type": "stream",
     "text": [
      "Akrotiri and Dhekelia\n",
      "Andorra\n",
      "Anguilla\n",
      "Antigua and Barbuda\n",
      "Aruba\n",
      "Australia\n",
      "Austria\n",
      "The Bahamas\n",
      "Barbados\n",
      "Belgium\n",
      "Bermuda\n",
      "Bonaire, St Eustatius and Saba\n",
      "British Antarctic Territory\n",
      "British Indian Ocean Territory\n",
      "British Virgin Islands\n",
      "Cayman Islands\n",
      "the Channel Islands\n",
      "Croatia\n",
      "Curaçao\n",
      "Cyprus\n",
      "Czech Republic\n",
      "Denmark\n",
      "Dominica\n",
      "Estonia\n",
      "Falkland Islands\n",
      "Faroe Islands\n",
      "Fiji\n",
      "Finland\n",
      "France\n",
      "French Polynesia\n",
      "Gibraltar\n",
      "Germany\n",
      "Greece\n",
      "Greenland\n",
      "Grenada\n",
      "Guadeloupe\n",
      "Hong Kong\n",
      "Hungary\n",
      "Iceland\n",
      "Ireland\n",
      "the Isle of Man\n",
      "Italy\n",
      "Jamaica\n",
      "Japan\n",
      "Latvia\n",
      "Liechtenstein\n",
      "Lithuania\n",
      "Macao\n",
      "Malta\n",
      "Mauritius\n",
      "Monaco\n",
      "Montserrat\n",
      "the Netherlands\n",
      "New Caledonia\n",
      "New Zealand\n",
      "Norway\n",
      "Pitcairn, Henderson, Ducie and Oeno Islands\n",
      "Poland\n",
      "Reunion\n",
      "San Marino\n",
      "Seychelles\n",
      "Slovakia\n",
      "Slovenia\n",
      "South Korea\n",
      "South Georgia and the South Sandwich Islands\n",
      "St Barthélemy\n",
      "St Helena, Ascension and Tristan da Cunha\n",
      "St Kitts and Nevis\n",
      "St Lucia\n",
      "St Pierre and Miquelon\n",
      "St Vincent and the Grenadines\n",
      "Switzerland\n",
      "Taiwan\n",
      "Trinidad and Tobago\n",
      "Turkey\n",
      "Turks and Caicos Islands\n",
      "Vatican City State\n",
      "Vietnam\n"
     ]
    }
   ],
   "source": [
    "for_checking = []\n",
    "for country in corridors.findAll('li'):\n",
    "    country_raw = country.text.split('(')[0].strip()\n",
    "    for_checking.append(country_raw)\n",
    "    print(country_raw)\n",
    "    if len(country.findAll('a')) > 0:\n",
    "        url = country.find('a').get('href')\n",
    "        for c in countries:\n",
    "            if 'url' not in c.keys():\n",
    "                continue\n",
    "            if c['url'] == url:\n",
    "                c['travel_corridor'] = True\n",
    "    else:\n",
    "        d = {}\n",
    "        d['name'] = country_raw\n",
    "        d['travel_corridor'] = True\n",
    "        countries.append(d)"
   ]
  },
  {
   "cell_type": "markdown",
   "metadata": {},
   "source": [
    "## Check for quarantine on arrival"
   ]
  },
  {
   "cell_type": "code",
   "execution_count": 106,
   "metadata": {},
   "outputs": [],
   "source": [
    "for country in countries:\n",
    "    if 'entry_requirements' not in country.keys():\n",
    "        continue\n",
    "    soup = BeautifulSoup(requests.get(country['entry_requirements']).text, 'lxml')\n",
    "    quaran = soup.find('h3', {'id':'quarantine-requirements'})\n",
    "    try:\n",
    "        country['quarantine'] = quaran.find_next_sibling('p').text\n",
    "    except:\n",
    "        country ['quarantine'] = np.nan"
   ]
  },
  {
   "cell_type": "code",
   "execution_count": 114,
   "metadata": {},
   "outputs": [],
   "source": [
    "df = pd.DataFrame(countries)\n",
    "df.travel_corridor = df.travel_corridor.fillna(False)"
   ]
  },
  {
   "cell_type": "code",
   "execution_count": 115,
   "metadata": {},
   "outputs": [
    {
     "data": {
      "text/html": [
       "<div>\n",
       "<style scoped>\n",
       "    .dataframe tbody tr th:only-of-type {\n",
       "        vertical-align: middle;\n",
       "    }\n",
       "\n",
       "    .dataframe tbody tr th {\n",
       "        vertical-align: top;\n",
       "    }\n",
       "\n",
       "    .dataframe thead th {\n",
       "        text-align: right;\n",
       "    }\n",
       "</style>\n",
       "<table border=\"1\" class=\"dataframe\">\n",
       "  <thead>\n",
       "    <tr style=\"text-align: right;\">\n",
       "      <th></th>\n",
       "      <th>name</th>\n",
       "      <th>url</th>\n",
       "      <th>entry_requirements</th>\n",
       "      <th>quarantine</th>\n",
       "      <th>travel_corridor</th>\n",
       "    </tr>\n",
       "  </thead>\n",
       "  <tbody>\n",
       "    <tr>\n",
       "      <th>0</th>\n",
       "      <td>Afghanistan</td>\n",
       "      <td>https://www.gov.uk/foreign-travel-advice/afgha...</td>\n",
       "      <td>https://www.gov.uk/foreign-travel-advice/afgha...</td>\n",
       "      <td>There are currently no compulsory quarantine r...</td>\n",
       "      <td>False</td>\n",
       "    </tr>\n",
       "    <tr>\n",
       "      <th>1</th>\n",
       "      <td>Albania</td>\n",
       "      <td>https://www.gov.uk/foreign-travel-advice/albania</td>\n",
       "      <td>https://www.gov.uk/foreign-travel-advice/alban...</td>\n",
       "      <td>NaN</td>\n",
       "      <td>False</td>\n",
       "    </tr>\n",
       "    <tr>\n",
       "      <th>2</th>\n",
       "      <td>Algeria</td>\n",
       "      <td>https://www.gov.uk/foreign-travel-advice/algeria</td>\n",
       "      <td>https://www.gov.uk/foreign-travel-advice/alger...</td>\n",
       "      <td>Current quarantine requirements are a compulso...</td>\n",
       "      <td>False</td>\n",
       "    </tr>\n",
       "    <tr>\n",
       "      <th>3</th>\n",
       "      <td>Andorra</td>\n",
       "      <td>https://www.gov.uk/foreign-travel-advice/andorra</td>\n",
       "      <td>https://www.gov.uk/foreign-travel-advice/andor...</td>\n",
       "      <td>NaN</td>\n",
       "      <td>True</td>\n",
       "    </tr>\n",
       "    <tr>\n",
       "      <th>4</th>\n",
       "      <td>Angola</td>\n",
       "      <td>https://www.gov.uk/foreign-travel-advice/angola</td>\n",
       "      <td>https://www.gov.uk/foreign-travel-advice/angol...</td>\n",
       "      <td>All air passengers arriving in Angola will nee...</td>\n",
       "      <td>False</td>\n",
       "    </tr>\n",
       "  </tbody>\n",
       "</table>\n",
       "</div>"
      ],
      "text/plain": [
       "          name                                                url  \\\n",
       "0  Afghanistan  https://www.gov.uk/foreign-travel-advice/afgha...   \n",
       "1      Albania   https://www.gov.uk/foreign-travel-advice/albania   \n",
       "2      Algeria   https://www.gov.uk/foreign-travel-advice/algeria   \n",
       "3      Andorra   https://www.gov.uk/foreign-travel-advice/andorra   \n",
       "4       Angola    https://www.gov.uk/foreign-travel-advice/angola   \n",
       "\n",
       "                                  entry_requirements  \\\n",
       "0  https://www.gov.uk/foreign-travel-advice/afgha...   \n",
       "1  https://www.gov.uk/foreign-travel-advice/alban...   \n",
       "2  https://www.gov.uk/foreign-travel-advice/alger...   \n",
       "3  https://www.gov.uk/foreign-travel-advice/andor...   \n",
       "4  https://www.gov.uk/foreign-travel-advice/angol...   \n",
       "\n",
       "                                          quarantine  travel_corridor  \n",
       "0  There are currently no compulsory quarantine r...            False  \n",
       "1                                                NaN            False  \n",
       "2  Current quarantine requirements are a compulso...            False  \n",
       "3                                                NaN             True  \n",
       "4  All air passengers arriving in Angola will nee...            False  "
      ]
     },
     "execution_count": 115,
     "metadata": {},
     "output_type": "execute_result"
    }
   ],
   "source": [
    "df.head()"
   ]
  },
  {
   "cell_type": "code",
   "execution_count": 116,
   "metadata": {},
   "outputs": [
    {
     "data": {
      "text/plain": [
       "78"
      ]
     },
     "execution_count": 116,
     "metadata": {},
     "output_type": "execute_result"
    }
   ],
   "source": [
    "len(for_checking)"
   ]
  },
  {
   "cell_type": "code",
   "execution_count": 110,
   "metadata": {},
   "outputs": [],
   "source": [
    "df.to_csv('FCO_scrape.csv')"
   ]
  },
  {
   "cell_type": "code",
   "execution_count": 83,
   "metadata": {},
   "outputs": [
    {
     "data": {
      "text/plain": [
       "105"
      ]
     },
     "execution_count": 83,
     "metadata": {},
     "output_type": "execute_result"
    }
   ],
   "source": [
    "len(df.dropna(subset=['quarantine']))"
   ]
  },
  {
   "cell_type": "code",
   "execution_count": 109,
   "metadata": {},
   "outputs": [
    {
     "data": {
      "text/plain": [
       "75"
      ]
     },
     "execution_count": 109,
     "metadata": {},
     "output_type": "execute_result"
    }
   ],
   "source": [
    "df.travel_corridor.sum()"
   ]
  },
  {
   "cell_type": "code",
   "execution_count": null,
   "metadata": {},
   "outputs": [],
   "source": []
  }
 ],
 "metadata": {
  "kernelspec": {
   "display_name": "Python 3",
   "language": "python",
   "name": "python3"
  },
  "language_info": {
   "codemirror_mode": {
    "name": "ipython",
    "version": 3
   },
   "file_extension": ".py",
   "mimetype": "text/x-python",
   "name": "python",
   "nbconvert_exporter": "python",
   "pygments_lexer": "ipython3",
   "version": "3.7.7"
  }
 },
 "nbformat": 4,
 "nbformat_minor": 4
}
